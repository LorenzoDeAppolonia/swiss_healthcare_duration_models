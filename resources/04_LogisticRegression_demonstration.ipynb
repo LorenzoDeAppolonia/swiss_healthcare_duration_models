{
  "nbformat": 4,
  "nbformat_minor": 0,
  "metadata": {
    "colab": {
      "provenance": [],
      "toc_visible": true
    },
    "kernelspec": {
      "name": "python3",
      "display_name": "Python 3"
    },
    "language_info": {
      "name": "python"
    }
  },
  "cells": [
    {
      "cell_type": "markdown",
      "metadata": {
        "id": "NFLjfAhyT35g"
      },
      "source": [
        "# Logistic Regression"
      ]
    },
    {
      "cell_type": "markdown",
      "metadata": {
        "id": "pbtgpVtLT0Mn"
      },
      "source": [
        "Let’s use the iris dataset, containing the sepal and petal length and width of 150 iris flowers of three different species: Iris-Setosa, Iris-Versicolor, and Iris-Virginica.\n",
        "\n",
        "**Let’s try to build a classifier to detect the Iris-Virginica type based only on the petal width feature.**"
      ]
    },
    {
      "cell_type": "code",
      "metadata": {
        "id": "Ao_4NeNTU6XQ"
      },
      "source": [
        "import numpy as np\n",
        "import matplotlib.pyplot as plt\n"
      ],
      "execution_count": null,
      "outputs": []
    },
    {
      "cell_type": "code",
      "metadata": {
        "id": "0WrjLVQKTt4K"
      },
      "source": [
        "from sklearn import datasets\n",
        "\n",
        "# load the datset\n",
        "iris = datasets.load_iris()\n",
        "X = iris[\"data\"][:, 3:] # petal width\n",
        "y = (iris[\"target\"] == 2).astype(np.int) # 1 if Iris-Virginica, else 0"
      ],
      "execution_count": null,
      "outputs": []
    },
    {
      "cell_type": "code",
      "metadata": {
        "id": "p0hpk3h1Uhyj"
      },
      "source": [
        "from sklearn.linear_model import LogisticRegression\n",
        "\n",
        "#train a logistic regression model\n",
        "log_reg = LogisticRegression()\n",
        "log_reg.fit(X, y)"
      ],
      "execution_count": null,
      "outputs": []
    },
    {
      "cell_type": "markdown",
      "metadata": {
        "id": "dcZ4CHshUtoz"
      },
      "source": [
        "Let’s look at the model’s estimated probabilities for flowers with petal widths varying from 0 to 3 cm"
      ]
    },
    {
      "cell_type": "code",
      "metadata": {
        "id": "3lDJO2SzUqA3"
      },
      "source": [
        "X_new = np.linspace(0, 3, 1000).reshape(-1, 1)\n",
        "y_proba = log_reg.predict_proba(X_new)\n",
        "plt.plot(X_new, y_proba[:, 1], \"g-\", label=\"Iris-Virginica\")\n",
        "plt.plot(X_new, y_proba[:, 0], \"b--\", label=\"Not Iris-Virginica\")\n",
        "plt.legend()\n",
        "plt.xlabel(\"Petal width (cm)\")\n",
        "plt.ylabel(\"Probability\")"
      ],
      "execution_count": null,
      "outputs": []
    },
    {
      "cell_type": "code",
      "metadata": {
        "id": "ukkx3nwoU3VV"
      },
      "source": [
        "#prediction\n",
        "print(\"Class prediction = {}\".format(log_reg.predict([[1.7]])))\n",
        "print(\"Probability prediction for all classes = {}\".format(log_reg.predict_proba([[1.7]])))"
      ],
      "execution_count": null,
      "outputs": []
    },
    {
      "cell_type": "markdown",
      "metadata": {
        "id": "Qd_Yf-0ena-M"
      },
      "source": [
        "The hyperparameter controlling the regularization strength of a Scikit-Learn LogisticRegression model is not $\\alpha$ (as in other linear models), but its inverse: **C**.\n",
        "\n",
        "The higher the value of `C`, the less the model is regularized."
      ]
    },
    {
      "cell_type": "markdown",
      "metadata": {
        "id": "jZxPYg1e7nRh"
      },
      "source": [
        "# Softmax Regression"
      ]
    },
    {
      "cell_type": "markdown",
      "metadata": {
        "id": "DxKhJB7w7wpc"
      },
      "source": [
        "Let’s use Softmax Regression to classify the iris flowers into all three classes.\n",
        "\n",
        "Scikit- Learn’s LogisticRegression uses *one-versus-all* by default when you train it on more than two classes, but you can set the `multi_class` hyperparameter to \"`multinomial`\" to switch it to **Softmax Regression** instead.\n",
        "\n",
        "You must also specify a *solver* that supports Softmax Regression, such as the \"`lbfgs`\" solver. It also applies $\\ell_2$ regularization by default, which you can control using the hyperparameter `C`."
      ]
    },
    {
      "cell_type": "code",
      "metadata": {
        "id": "h74tmjNG7tg3"
      },
      "source": [
        "X = iris[\"data\"][:, (2, 3)] # petal length, petal width\n",
        "y = iris[\"target\"]"
      ],
      "execution_count": null,
      "outputs": []
    },
    {
      "cell_type": "code",
      "metadata": {
        "id": "mkOJ_InP8FPA"
      },
      "source": [
        "softmax_reg = LogisticRegression(multi_class=\"multinomial\",solver=\"lbfgs\", C=10)\n",
        "softmax_reg.fit(X, y)"
      ],
      "execution_count": null,
      "outputs": []
    },
    {
      "cell_type": "markdown",
      "metadata": {
        "id": "qeVv1S7Q8UP6"
      },
      "source": [
        "So the next time you find an iris with 5 cm long and 2 cm wide petals, you can ask your model to tell you what type of iris it is."
      ]
    },
    {
      "cell_type": "code",
      "metadata": {
        "id": "Mz5fc1pi8NPo"
      },
      "source": [
        "softmax_reg.predict([[5, 2]])"
      ],
      "execution_count": null,
      "outputs": []
    },
    {
      "cell_type": "code",
      "metadata": {
        "id": "VW_Gqh5jGpDK"
      },
      "source": [
        "softmax_reg.predict_proba([[5, 2]])"
      ],
      "execution_count": null,
      "outputs": []
    },
    {
      "cell_type": "markdown",
      "metadata": {
        "id": "UjX7aocO8mBX"
      },
      "source": [
        "The model answer Iris-Virginica (class 2) with 94.2% probability (or Iris-Versicolor with 5.7% probability)"
      ]
    },
    {
      "cell_type": "code",
      "metadata": {
        "id": "6Bs2DEnQ8g_-"
      },
      "source": [],
      "execution_count": null,
      "outputs": []
    }
  ]
}